{
 "cells": [
  {
   "cell_type": "code",
   "execution_count": 1,
   "metadata": {},
   "outputs": [],
   "source": [
    "import csv\n",
    "import sys\n",
    "import matplotlib.pyplot as plt"
   ]
  },
  {
   "cell_type": "code",
   "execution_count": 2,
   "metadata": {},
   "outputs": [],
   "source": [
    "input_file = 'ili_run_sheet.csv'\n",
    "output_file = 'conditions_r_met.csv'\n",
    "\n",
    "x= 0\n",
    "fn= 1\n",
    "fd = 2\n",
    "mdp = 3\n",
    "ya = 4"
   ]
  },
  {
   "cell_type": "code",
   "execution_count": 3,
   "metadata": {},
   "outputs": [
    {
     "name": "stdout",
     "output_type": "stream",
     "text": [
      "Column Header Index:\n",
      "0 Odometer (ft)\n",
      "1 Feature Number\n",
      "2 Feature Description\n",
      "3 Max Depth(%)\n",
      "4 YPin\n"
     ]
    }
   ],
   "source": [
    "with open(input_file,'r',newline='') as f:\n",
    "    with open(output_file,'w',newline='')as o:\n",
    "        \n",
    "        reader = csv.reader(f)\n",
    "        writer = csv.writer(o)\n",
    "        header_row = next(reader)\n",
    "        writer.writerow(header_row)\n",
    "        print(\"Column Header Index:\")\n",
    "        \n",
    "        for index,column_header in enumerate(header_row):\n",
    "            print(index,column_header)\n",
    "            \n",
    "        #I will grab all anomalies to scatter plot from run data and set up 3 list\n",
    "        ili_data, \\\n",
    "        descript_data, descript, descript_y, descript_descript, \\\n",
    "        agm,agm_label,agm_data, \\\n",
    "        weld, weld_pipe, weld_data, \\\n",
    "        gweq,gweq_pipe,gweq_data, \\\n",
    "        tap,tap_data,tap_pipe, \\\n",
    "        tee, tee_pipe, tee_data, \\\n",
    "        valve, valve_pipe,valve_data, \\\n",
    "        sleeve,sleeve_pipe,sleeve_data, \\\n",
    "        anomaly, anomaly_pipe, anomaly_data, \\\n",
    "        dp_anomaly,dp_anomaly_pipe,dp_anomaly_data, \\\n",
    "        flange, flange_pipe, flange_data, \\\n",
    "        composite,composite_pipe,composite_data, \\\n",
    "        patch,patch_pipe,patch_data, \\\n",
    "        magnet,magnet_pipe,magnet_data, \\\n",
    "        casing,casing_pipe,casing_data, \\\n",
    "        install,install_pipe,install_data, \\\n",
    "        attach,attach_pipe,attach_data, \\\n",
    "        trap,trap_pipe,trap_data, \\\n",
    "        lbend,lbend_pipe,lbend_data, \\\n",
    "        rbend,rbend_pipe,rbend_data, \\\n",
    "        ubend,ubend_pipe,ubend_data, \\\n",
    "        dbend,dbend_pipe,dbend_data, \\\n",
    "        deform,deform_pipe,deform_data, \\\n",
    "        = [],[],[],[],[],[],[],[],[],[], \\\n",
    "        [],[],[],[],[],[],[],[],[],[], \\\n",
    "        [],[],[],[],[],[],[],[],[],[], \\\n",
    "        [],[],[],[],[],[],[],[],[],[], \\\n",
    "        [],[],[],[],[],[],[],[],[],[], \\\n",
    "        [],[],[],[],[],[],[],[],[],[], \\\n",
    "        [],[],[],[],[],[],[],[],[],[], \\\n",
    "        []\n",
    "\n",
    "        for row in reader:\n",
    "            odometers = float(row[x])\n",
    "            feature_number = int(row[fn])\n",
    "            description = str(row[fd])\n",
    "            depth_percent = float(row[mdp])\n",
    "            y_axis = int(row[ya])\n",
    "            run_data = row[:]\n",
    "        \n",
    "            ili_data.append(run_data)\n",
    "            \n",
    "            #insert up index description in row[7]\n",
    "            descript_data.append(row)\n",
    "            descript.append(odometers)\n",
    "            descript_y.append(y_axis)\n",
    "            descript_descript.append(description)\n",
    "\n",
    "            def feature_setup(feature,feature_odo,feature_data,feature_pipe):\n",
    "                if description == feature:\n",
    "                    feature_odo.append(odometers)\n",
    "                    feature_pipe.append(y_axis)\n",
    "                    feature_data.append(row)\n",
    "                    writer.writerow(row)\n",
    "\n",
    "            feature_setup('Tap',tap,tap_data,tap_pipe)\n",
    "\n",
    "            feature_setup('Tee',tee,tee_data,tee_pipe)\n",
    "\n",
    "            feature_setup('Valve',valve,valve_data,valve_pipe)\n",
    "\n",
    "            feature_setup('Girth Weld',weld,weld_data,weld_pipe)\n",
    "\n",
    "            feature_setup('Sleeve Begin',sleeve,sleeve_data,sleeve_pipe)\n",
    "            feature_setup('Sleeve End ',sleeve,sleeve_data,sleeve_pipe)\n",
    "\n",
    "            feature_setup('Flange',flange,flange_data,flange_pipe)\n",
    "\n",
    "            feature_setup('Magnet',magnet,magnet_data,magnet_pipe)\n",
    "\n",
    "            feature_setup('Casing End',casing,casing_data,casing_pipe)\n",
    "            feature_setup('Casing Begin',casing,casing_data,casing_pipe)\n",
    "\n",
    "            feature_setup('Area Launcher',trap,trap_data,trap_pipe)\n",
    "            feature_setup('Start Launcher',trap,trap_data,trap_pipe)\n",
    "\n",
    "            feature_setup('Deformation Anomaly',deform,deform_data,deform_pipe)\n",
    "            \n",
    "            feature_setup('AGM',agm,agm_label,agm_data)\n",
    "            \n",
    "            feature_setup('Metal Loss Anomaly',anomaly,anomaly_pipe,anomaly_data)\n",
    "            \n",
    "            feature_setup('Bend Left',lbend,lbend_data,lbend_pipe)\n",
    "            feature_setup('Bend Right',rbend,rbend_data,rbend_pipe)\n",
    "            feature_setup('Bend up',ubend,ubend_data,ubend_pipe)\n",
    "            feature_setup('Bend down',dbend,dbend_data,dbend_pipe)\n",
    "            "
   ]
  },
  {
   "cell_type": "code",
   "execution_count": 4,
   "metadata": {
    "scrolled": false
   },
   "outputs": [
    {
     "name": "stdout",
     "output_type": "stream",
     "text": [
      "\n",
      "\n",
      "[['14263.4', '138', 'Bend Left', '0', '2'], ['14356.9', '142', 'Bend Left', '0', '2']]\n",
      "0 Casing Begin\n",
      "1 AGM\n",
      "2 Metal Loss Anomaly\n",
      "3 Magnet\n",
      "4 Flange\n",
      "5 Tap\n",
      "6 Bend Down\n",
      "7 Casing End\n",
      "8 Deformation Anomaly\n",
      "9 Sleeve Begin\n",
      "10 Sleeve End\n",
      "11 Bend Right\n",
      "12 Valve\n",
      "13 Start Launcher\n",
      "14 Girth Weld\n",
      "15 Area Launcher\n",
      "16 Bend Left\n",
      "17 Tee\n"
     ]
    }
   ],
   "source": [
    "    print(\"\\n\")\n",
    "    print(lbend_data)\n",
    "    for index,description in enumerate(set(descript_descript)):\n",
    "        print(index,description)"
   ]
  },
  {
   "cell_type": "code",
   "execution_count": 5,
   "metadata": {},
   "outputs": [
    {
     "name": "stdout",
     "output_type": "stream",
     "text": [
      "\n",
      "\n",
      "there are 10 taps in this section of pipeline.\n",
      "there are 2 tee's in this section of pipeline.\n",
      "there are 1 valves in this section of pipeline.\n",
      "there are 2 flanges in this section of pipeline.\n",
      "there are 22 metal loss anomalies in this section of pipeline.\n",
      "there are 1 sleeve hotends in this section of pipeline\n",
      "there are 2 casing ends in this section of pipeline\n",
      "there are 2 left bends in this section of pipeline\n",
      "there are 1 right bends in this section of pipeline\n",
      "there are 0 up bends in this section of pipeline\n",
      "there are 2 deformations in this section of pipeline\n"
     ]
    }
   ],
   "source": [
    "    \n",
    "    print(\"\\n\")\n",
    "    print(\"there are \" + str(len(tap))+ \" taps in this section of pipeline.\")\n",
    "    print(\"there are \" + str(len(tee))+ \" tee's in this section of pipeline.\")\n",
    "    print(\"there are \" + str(len(valve))+ \" valves in this section of pipeline.\")\n",
    "    print(\"there are \" + str(len(flange))+ \" flanges in this section of pipeline.\")\n",
    "    print(\"there are \" + str(len(anomaly))+ \" metal loss anomalies in this section of pipeline.\")\n",
    "    print(\"there are \" + str(len(sleeve))+ \" sleeve hotends in this section of pipeline\")\n",
    "    print(\"there are \" + str(len(casing)) + \" casing ends in this section of pipeline\")\n",
    "    print(\"there are \" + str(len(lbend)) + \" left bends in this section of pipeline\")\n",
    "    print(\"there are \" + str(len(rbend)) + \" right bends in this section of pipeline\")\n",
    "    print(\"there are \" + str(len(ubend)) + \" up bends in this section of pipeline\")\n",
    "    print(\"there are \" + str(len(deform)) + \" deformations in this section of pipeline\")\n",
    "   "
   ]
  },
  {
   "cell_type": "code",
   "execution_count": 6,
   "metadata": {},
   "outputs": [
    {
     "data": {
      "image/png": "[encoded data removed]",
      "text/plain": [
       "<Figure size 1446.4x736 with 1 Axes>"
      ]
     },
     "metadata": {
      "needs_background": "light"
     },
     "output_type": "display_data"
    }
   ],
   "source": [
    "fig = plt.figure(dpi = 128, figsize=(11.3,5.75))\n",
    "plt.scatter(weld,weld_pipe,s=5000,color='grey',marker='|')\n",
    "plt.scatter(anomaly,anomaly_data,s=45,color='lightcoral',marker='*')\n",
    "plt.scatter(tap,tap_pipe,s=100,color='turquoise',marker='o')\n",
    "plt.scatter(tap,tap_pipe,s=100,color='darkblue',marker='+')\n",
    "plt.scatter(tee,tee_pipe,s=200,color='limegreen',marker='o')\n",
    "plt.scatter(tee,tee_pipe,s=200,color='darkblue',marker='+')\n",
    "plt.scatter(sleeve,sleeve_pipe,s=6000,color='red',marker='|')\n",
    "plt.scatter(sleeve,sleeve_pipe,s=3000,color='crimson',marker='|')\n",
    "plt.scatter(flange,flange_pipe,s=2200,color='gold',marker='|')\n",
    "plt.scatter(agm,agm_data,s=200,color='red',marker='o')\n",
    "plt.scatter(agm,agm_data,s=150,color='navy',marker='P')\n",
    "plt.scatter(agm,agm_data,s=100,color='w',marker='+')\n",
    "plt.scatter(casing,casing_pipe,s=9000,color='indigo',marker='|')\n",
    "plt.scatter(valve,valve_pipe,s=100,color='lightsteelblue',marker='X')\n",
    "plt.scatter(valve,valve_pipe,s=1000,color='blue',marker='x')\n",
    "plt.scatter(lbend,lbend_pipe,s=100,color='blue',marker='<')\n",
    "plt.scatter(rbend,rbend_pipe,s=100,color='blue',marker='>')\n",
    "plt.scatter(ubend,ubend_pipe,s=100,color='blue',marker='^')\n",
    "plt.scatter(dbend,dbend_pipe,s=100,color='blue',marker='v')\n",
    "plt.scatter(deform,deform_pipe,s=500,color='green',marker='*')\n",
    "\n",
    "#set chart title and label axes.\n",
    "plt.title(\"ILI Macro Visual\", fontsize=26)\n",
    "plt.xlabel(\"Odometer Readings (ft)\",fontsize=20)\n",
    "#plt.ylabel(\"Pipeline Depth of Cover\",fontsize=20)\n",
    "\n",
    "plt.tick_params(labelleft='off')\n",
    "plt.axis([-277,1000, -5,5])\n",
    "\n",
    "plt.show()"
   ]
  }
 ],
 "metadata": {
  "kernelspec": {
   "display_name": "Python 3",
   "language": "python",
   "name": "python3"
  },
  "language_info": {
   "codemirror_mode": {
    "name": "ipython",
    "version": 3
   },
   "file_extension": ".py",
   "mimetype": "text/x-python",
   "name": "python",
   "nbconvert_exporter": "python",
   "pygments_lexer": "ipython3",
   "version": "3.8.3"
  }
 },
 "nbformat": 4,
 "nbformat_minor": 4
}
