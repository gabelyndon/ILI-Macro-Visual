{
 "cells": [
  {
   "cell_type": "markdown",
   "metadata": {},
   "source": [
    "# ILI Macro Visual\n",
    "-------------------\n",
    "<div>Developer: Gabriel Salinas</div> \n",
    "<div>Contributor: Garey Salinas</div>"
   ]
  },
  {
   "cell_type": "markdown",
   "metadata": {},
   "source": [
    "## Import libraries"
   ]
  },
  {
   "cell_type": "code",
   "execution_count": 150,
   "metadata": {},
   "outputs": [],
   "source": [
    "%matplotlib inline\n",
    "import csv \n",
    "#lets try and read the data using pandas instead of csv\n",
    "import pandas as pd\n",
    "import numpy as np\n",
    "import seaborn as sns\n",
    "import matplotlib.pyplot as plt\n",
    "import matplotlib as mpl\n",
    "from typing import List, Tuple, Dict, Optional\n",
    "import warnings\n",
    "#print(mpl.matplotlib_fname())"
   ]
  },
  {
   "cell_type": "markdown",
   "metadata": {},
   "source": [
    "### Configure look and feel of notebook"
   ]
  },
  {
   "cell_type": "code",
   "execution_count": 151,
   "metadata": {},
   "outputs": [],
   "source": [
    "mpl.rcParams['font.family'] = 'sans-serif'\n",
    "sns.set_style(\"darkgrid\")\n",
    "sns.set(color_codes=True)\n",
    "warnings.filterwarnings('ignore')"
   ]
  },
  {
   "cell_type": "code",
   "execution_count": 152,
   "metadata": {},
   "outputs": [
    {
     "data": {
      "text/html": [
       "<div>\n",
       "<style scoped>\n",
       "    .dataframe tbody tr th:only-of-type {\n",
       "        vertical-align: middle;\n",
       "    }\n",
       "\n",
       "    .dataframe tbody tr th {\n",
       "        vertical-align: top;\n",
       "    }\n",
       "\n",
       "    .dataframe thead th {\n",
       "        text-align: right;\n",
       "    }\n",
       "</style>\n",
       "<table border=\"1\" class=\"dataframe\">\n",
       "  <thead>\n",
       "    <tr style=\"text-align: right;\">\n",
       "      <th></th>\n",
       "      <th>Odometer (ft)</th>\n",
       "      <th>Feature Number</th>\n",
       "      <th>Feature Description</th>\n",
       "      <th>Max Depth(%)</th>\n",
       "      <th>YPin</th>\n",
       "    </tr>\n",
       "  </thead>\n",
       "  <tbody>\n",
       "    <tr>\n",
       "      <th>0</th>\n",
       "      <td>-11.12</td>\n",
       "      <td>1</td>\n",
       "      <td>Start Launcher</td>\n",
       "      <td>0.0</td>\n",
       "      <td>2</td>\n",
       "    </tr>\n",
       "    <tr>\n",
       "      <th>1</th>\n",
       "      <td>-7.70</td>\n",
       "      <td>3</td>\n",
       "      <td>Tap</td>\n",
       "      <td>0.0</td>\n",
       "      <td>2</td>\n",
       "    </tr>\n",
       "    <tr>\n",
       "      <th>2</th>\n",
       "      <td>-6.40</td>\n",
       "      <td>5</td>\n",
       "      <td>Tap</td>\n",
       "      <td>0.0</td>\n",
       "      <td>2</td>\n",
       "    </tr>\n",
       "    <tr>\n",
       "      <th>3</th>\n",
       "      <td>-3.30</td>\n",
       "      <td>7</td>\n",
       "      <td>Valve</td>\n",
       "      <td>0.0</td>\n",
       "      <td>2</td>\n",
       "    </tr>\n",
       "    <tr>\n",
       "      <th>4</th>\n",
       "      <td>-3.30</td>\n",
       "      <td>9</td>\n",
       "      <td>Tee</td>\n",
       "      <td>0.0</td>\n",
       "      <td>2</td>\n",
       "    </tr>\n",
       "  </tbody>\n",
       "</table>\n",
       "</div>"
      ],
      "text/plain": [
       "   Odometer (ft)  Feature Number Feature Description  Max Depth(%)  YPin\n",
       "0         -11.12               1      Start Launcher           0.0     2\n",
       "1          -7.70               3                 Tap           0.0     2\n",
       "2          -6.40               5                 Tap           0.0     2\n",
       "3          -3.30               7               Valve           0.0     2\n",
       "4          -3.30               9                 Tee           0.0     2"
      ]
     },
     "execution_count": 152,
     "metadata": {},
     "output_type": "execute_result"
    }
   ],
   "source": [
    "filename = 'run_sheet.csv'\n",
    "data = pd.read_csv(filename)                     \n",
    "df = data.copy()\n",
    "df.head()"
   ]
  },
  {
   "cell_type": "code",
   "execution_count": 153,
   "metadata": {},
   "outputs": [
    {
     "data": {
      "text/html": [
       "<div>\n",
       "<style scoped>\n",
       "    .dataframe tbody tr th:only-of-type {\n",
       "        vertical-align: middle;\n",
       "    }\n",
       "\n",
       "    .dataframe tbody tr th {\n",
       "        vertical-align: top;\n",
       "    }\n",
       "\n",
       "    .dataframe thead th {\n",
       "        text-align: right;\n",
       "    }\n",
       "</style>\n",
       "<table border=\"1\" class=\"dataframe\">\n",
       "  <thead>\n",
       "    <tr style=\"text-align: right;\">\n",
       "      <th></th>\n",
       "      <th>Odometer (ft)</th>\n",
       "      <th>Feature Number</th>\n",
       "      <th>Feature Description</th>\n",
       "      <th>Max Depth(%)</th>\n",
       "      <th>YPin</th>\n",
       "    </tr>\n",
       "  </thead>\n",
       "  <tbody>\n",
       "    <tr>\n",
       "      <th>510</th>\n",
       "      <td>31242.0</td>\n",
       "      <td>1021</td>\n",
       "      <td>Girth Weld</td>\n",
       "      <td>0.0</td>\n",
       "      <td>2</td>\n",
       "    </tr>\n",
       "    <tr>\n",
       "      <th>511</th>\n",
       "      <td>31288.0</td>\n",
       "      <td>1023</td>\n",
       "      <td>Girth Weld</td>\n",
       "      <td>0.0</td>\n",
       "      <td>2</td>\n",
       "    </tr>\n",
       "    <tr>\n",
       "      <th>512</th>\n",
       "      <td>31333.0</td>\n",
       "      <td>1025</td>\n",
       "      <td>Girth Weld</td>\n",
       "      <td>0.0</td>\n",
       "      <td>2</td>\n",
       "    </tr>\n",
       "    <tr>\n",
       "      <th>513</th>\n",
       "      <td>31382.0</td>\n",
       "      <td>1027</td>\n",
       "      <td>Girth Weld</td>\n",
       "      <td>0.0</td>\n",
       "      <td>2</td>\n",
       "    </tr>\n",
       "    <tr>\n",
       "      <th>514</th>\n",
       "      <td>31433.0</td>\n",
       "      <td>1029</td>\n",
       "      <td>Girth Weld</td>\n",
       "      <td>0.0</td>\n",
       "      <td>2</td>\n",
       "    </tr>\n",
       "  </tbody>\n",
       "</table>\n",
       "</div>"
      ],
      "text/plain": [
       "     Odometer (ft)  Feature Number Feature Description  Max Depth(%)  YPin\n",
       "510        31242.0            1021          Girth Weld           0.0     2\n",
       "511        31288.0            1023          Girth Weld           0.0     2\n",
       "512        31333.0            1025          Girth Weld           0.0     2\n",
       "513        31382.0            1027          Girth Weld           0.0     2\n",
       "514        31433.0            1029          Girth Weld           0.0     2"
      ]
     },
     "execution_count": 153,
     "metadata": {},
     "output_type": "execute_result"
    }
   ],
   "source": [
    "df.tail()"
   ]
  },
  {
   "cell_type": "code",
   "execution_count": 154,
   "metadata": {},
   "outputs": [
    {
     "data": {
      "text/plain": [
       "(515, 5)"
      ]
     },
     "execution_count": 154,
     "metadata": {},
     "output_type": "execute_result"
    }
   ],
   "source": [
    "df.shape"
   ]
  },
  {
   "cell_type": "code",
   "execution_count": 155,
   "metadata": {},
   "outputs": [
    {
     "name": "stdout",
     "output_type": "stream",
     "text": [
      "<class 'pandas.core.frame.DataFrame'>\n",
      "RangeIndex: 515 entries, 0 to 514\n",
      "Data columns (total 5 columns):\n",
      " #   Column               Non-Null Count  Dtype  \n",
      "---  ------               --------------  -----  \n",
      " 0   Odometer (ft)        515 non-null    float64\n",
      " 1   Feature Number       515 non-null    int64  \n",
      " 2   Feature Description  515 non-null    object \n",
      " 3   Max Depth(%)         515 non-null    float64\n",
      " 4   YPin                 515 non-null    int64  \n",
      "dtypes: float64(2), int64(2), object(1)\n",
      "memory usage: 20.2+ KB\n"
     ]
    }
   ],
   "source": [
    "df.info()"
   ]
  },
  {
   "cell_type": "code",
   "execution_count": 156,
   "metadata": {},
   "outputs": [
    {
     "data": {
      "text/html": [
       "<div>\n",
       "<style scoped>\n",
       "    .dataframe tbody tr th:only-of-type {\n",
       "        vertical-align: middle;\n",
       "    }\n",
       "\n",
       "    .dataframe tbody tr th {\n",
       "        vertical-align: top;\n",
       "    }\n",
       "\n",
       "    .dataframe thead th {\n",
       "        text-align: right;\n",
       "    }\n",
       "</style>\n",
       "<table border=\"1\" class=\"dataframe\">\n",
       "  <thead>\n",
       "    <tr style=\"text-align: right;\">\n",
       "      <th></th>\n",
       "      <th>Odometer (ft)</th>\n",
       "      <th>Feature Number</th>\n",
       "      <th>Feature Description</th>\n",
       "      <th>Max Depth(%)</th>\n",
       "      <th>YPin</th>\n",
       "    </tr>\n",
       "  </thead>\n",
       "  <tbody>\n",
       "    <tr>\n",
       "      <th>count</th>\n",
       "      <td>515.000000</td>\n",
       "      <td>515.000000</td>\n",
       "      <td>515</td>\n",
       "      <td>515.000000</td>\n",
       "      <td>515.0</td>\n",
       "    </tr>\n",
       "    <tr>\n",
       "      <th>unique</th>\n",
       "      <td>NaN</td>\n",
       "      <td>NaN</td>\n",
       "      <td>18</td>\n",
       "      <td>NaN</td>\n",
       "      <td>NaN</td>\n",
       "    </tr>\n",
       "    <tr>\n",
       "      <th>top</th>\n",
       "      <td>NaN</td>\n",
       "      <td>NaN</td>\n",
       "      <td>Girth Weld</td>\n",
       "      <td>NaN</td>\n",
       "      <td>NaN</td>\n",
       "    </tr>\n",
       "    <tr>\n",
       "      <th>freq</th>\n",
       "      <td>NaN</td>\n",
       "      <td>NaN</td>\n",
       "      <td>460</td>\n",
       "      <td>NaN</td>\n",
       "      <td>NaN</td>\n",
       "    </tr>\n",
       "    <tr>\n",
       "      <th>mean</th>\n",
       "      <td>18830.726505</td>\n",
       "      <td>515.000000</td>\n",
       "      <td>NaN</td>\n",
       "      <td>1.835146</td>\n",
       "      <td>2.0</td>\n",
       "    </tr>\n",
       "    <tr>\n",
       "      <th>std</th>\n",
       "      <td>8485.017501</td>\n",
       "      <td>297.623924</td>\n",
       "      <td>NaN</td>\n",
       "      <td>9.791048</td>\n",
       "      <td>0.0</td>\n",
       "    </tr>\n",
       "    <tr>\n",
       "      <th>min</th>\n",
       "      <td>-11.120000</td>\n",
       "      <td>1.000000</td>\n",
       "      <td>NaN</td>\n",
       "      <td>0.000000</td>\n",
       "      <td>2.0</td>\n",
       "    </tr>\n",
       "    <tr>\n",
       "      <th>25%</th>\n",
       "      <td>13767.000000</td>\n",
       "      <td>258.000000</td>\n",
       "      <td>NaN</td>\n",
       "      <td>0.000000</td>\n",
       "      <td>2.0</td>\n",
       "    </tr>\n",
       "    <tr>\n",
       "      <th>50%</th>\n",
       "      <td>19646.000000</td>\n",
       "      <td>515.000000</td>\n",
       "      <td>NaN</td>\n",
       "      <td>0.000000</td>\n",
       "      <td>2.0</td>\n",
       "    </tr>\n",
       "    <tr>\n",
       "      <th>75%</th>\n",
       "      <td>25773.500000</td>\n",
       "      <td>772.000000</td>\n",
       "      <td>NaN</td>\n",
       "      <td>0.000000</td>\n",
       "      <td>2.0</td>\n",
       "    </tr>\n",
       "    <tr>\n",
       "      <th>max</th>\n",
       "      <td>31433.000000</td>\n",
       "      <td>1029.000000</td>\n",
       "      <td>NaN</td>\n",
       "      <td>79.000000</td>\n",
       "      <td>2.0</td>\n",
       "    </tr>\n",
       "  </tbody>\n",
       "</table>\n",
       "</div>"
      ],
      "text/plain": [
       "        Odometer (ft)  Feature Number Feature Description  Max Depth(%)   YPin\n",
       "count      515.000000      515.000000                 515    515.000000  515.0\n",
       "unique            NaN             NaN                  18           NaN    NaN\n",
       "top               NaN             NaN          Girth Weld           NaN    NaN\n",
       "freq              NaN             NaN                 460           NaN    NaN\n",
       "mean     18830.726505      515.000000                 NaN      1.835146    2.0\n",
       "std       8485.017501      297.623924                 NaN      9.791048    0.0\n",
       "min        -11.120000        1.000000                 NaN      0.000000    2.0\n",
       "25%      13767.000000      258.000000                 NaN      0.000000    2.0\n",
       "50%      19646.000000      515.000000                 NaN      0.000000    2.0\n",
       "75%      25773.500000      772.000000                 NaN      0.000000    2.0\n",
       "max      31433.000000     1029.000000                 NaN     79.000000    2.0"
      ]
     },
     "execution_count": 156,
     "metadata": {},
     "output_type": "execute_result"
    }
   ],
   "source": [
    "df.describe(include='all')"
   ]
  },
  {
   "cell_type": "markdown",
   "metadata": {},
   "source": [
    "**Observations**\n",
    "- Looking at the \"count\" row for each column, there are 515 observations for each feature.\n",
    "- The 'Odometer' column has a negative value. Check for more negative values.\n",
    "- Most of 'Odometer' sample data is in the upper quantile.\n",
    "- 'Feature Number' values range from 1 to just over 1000. most of the population lives in the upper quantile.\n",
    "- 'Max Depth' has zero missing data and a mean close to zero. The standard deviation is greater than the mean.\n",
    "- 'Max Depth' values are highly dispered, ranging from 0 to 80. \n",
    "- All of 'YPin' values are 2. We can think about dropping this column and create a single variable. \n",
    "- Since 'Description' shows to have 18 unique values. We can change the dtype to category.\n",
    "- There seems to be no missing data in all the columns."
   ]
  },
  {
   "cell_type": "markdown",
   "metadata": {},
   "source": [
    "### Lets change the column headers to make it easier on us"
   ]
  },
  {
   "cell_type": "code",
   "execution_count": 157,
   "metadata": {},
   "outputs": [
    {
     "data": {
      "text/plain": [
       "Index(['Odometer', 'Number', 'Description', 'Depth', 'Ypin'], dtype='object')"
      ]
     },
     "execution_count": 157,
     "metadata": {},
     "output_type": "execute_result"
    }
   ],
   "source": [
    "df.columns = ['Odometer', 'Number', 'Description', 'Depth', 'Ypin'] #we can change back later if need to\n",
    "df.columns"
   ]
  },
  {
   "cell_type": "code",
   "execution_count": 158,
   "metadata": {},
   "outputs": [
    {
     "data": {
      "text/plain": [
       "Odometer       float64\n",
       "Number           int64\n",
       "Description     object\n",
       "Depth          float64\n",
       "Ypin             int64\n",
       "dtype: object"
      ]
     },
     "execution_count": 158,
     "metadata": {},
     "output_type": "execute_result"
    }
   ],
   "source": [
    "df.dtypes"
   ]
  },
  {
   "cell_type": "code",
   "execution_count": 159,
   "metadata": {},
   "outputs": [
    {
     "data": {
      "text/plain": [
       "Girth Weld             460\n",
       "Metal Loss Anomaly      22\n",
       "Tap                      6\n",
       "Tee                      4\n",
       "Valve                    4\n",
       "Flange                   3\n",
       "AGM                      3\n",
       "Bend Left                2\n",
       "Deformation Anomaly      2\n",
       "Bend Down                1\n",
       "Casing End               1\n",
       "Sleeve End               1\n",
       "Bend Right               1\n",
       "Magnet                   1\n",
       "Start Launcher           1\n",
       "Casing Begin             1\n",
       "Area Launcher            1\n",
       "Sleeve Begin             1\n",
       "Name: Description, dtype: int64"
      ]
     },
     "execution_count": 159,
     "metadata": {},
     "output_type": "execute_result"
    }
   ],
   "source": [
    "df.Description.value_counts()"
   ]
  },
  {
   "cell_type": "code",
   "execution_count": 160,
   "metadata": {},
   "outputs": [
    {
     "name": "stdout",
     "output_type": "stream",
     "text": [
      "There are 18 in the Description column\n"
     ]
    }
   ],
   "source": [
    "unique_values = len(df.Description.unique())\n",
    "print(f\"There are {unique_values} in the Description column\")"
   ]
  },
  {
   "cell_type": "markdown",
   "metadata": {},
   "source": [
    "**Since there are 18 unique values, lets make the into categorical column**\n"
   ]
  },
  {
   "cell_type": "code",
   "execution_count": 161,
   "metadata": {},
   "outputs": [],
   "source": [
    "df['Description'] = df.Description.astype('category')"
   ]
  },
  {
   "cell_type": "markdown",
   "metadata": {},
   "source": [
    "## Lets explore the features. First the numerical types."
   ]
  },
  {
   "cell_type": "code",
   "execution_count": 162,
   "metadata": {},
   "outputs": [
    {
     "data": {
      "text/plain": [
       "Odometer   -0.666532\n",
       "Number      0.000000\n",
       "Depth       5.874907\n",
       "Ypin        0.000000\n",
       "dtype: float64"
      ]
     },
     "execution_count": 162,
     "metadata": {},
     "output_type": "execute_result"
    }
   ],
   "source": [
    "df.skew()"
   ]
  },
  {
   "cell_type": "markdown",
   "metadata": {},
   "source": [
    "- Odometer has a negative skew.\n",
    "- Depth has a positive skew.\n",
    "- Feature number and Ypin dont have a skew with falls in line with a dispersion noted earlier."
   ]
  },
  {
   "cell_type": "code",
   "execution_count": 163,
   "metadata": {},
   "outputs": [],
   "source": [
    "def histogram_boxplot(feature, figsize=(10,5), bins=None):\n",
    "    \"\"\"Boxplot and histogram combined\"\"\"\n",
    "    f2, (ax_box2, ax_hist2) = plt.subplots(nrows = 2, # Number of rows of the subplot grid= 2\n",
    "                                           sharex = True, # x-axis will be shared among all subplots\n",
    "                                           gridspec_kw = {\"height_ratios\": (.25, .75)}, \n",
    "                                           figsize = figsize \n",
    "                                           ) # creating the 2 subplots\n",
    "    sns.boxplot(feature, ax=ax_box2, showmeans=True, color='yellow') \n",
    "    sns.distplot(feature, kde=True, ax=ax_hist2, bins=bins) if bins else sns.distplot(feature, kde=True, ax=ax_hist2) \n",
    "    # Add mean and median to the histogram\n",
    "    ax_hist2.axvline(np.mean(feature), color='green', linestyle='--') \n",
    "    ax_hist2.axvline(np.median(feature), color='blue', linestyle='-')"
   ]
  },
  {
   "cell_type": "markdown",
   "metadata": {},
   "source": [
    "### Odometer"
   ]
  },
  {
   "cell_type": "code",
   "execution_count": 164,
   "metadata": {},
   "outputs": [
    {
     "data": {
      "image/png": "[encoded data removed]",
      "text/plain": [
       "<Figure size 720x360 with 2 Axes>"
      ]
     },
     "metadata": {},
     "output_type": "display_data"
    }
   ],
   "source": [
    "histogram_boxplot(df.Odometer)"
   ]
  },
  {
   "cell_type": "markdown",
   "metadata": {},
   "source": [
    "Lets check to see how many values are less than zero."
   ]
  },
  {
   "cell_type": "code",
   "execution_count": 165,
   "metadata": {},
   "outputs": [
    {
     "name": "stdout",
     "output_type": "stream",
     "text": [
      "There are 515 number of values in the Odometer column.\n",
      "There are 7 below zero in the Odometer column\n"
     ]
    },
    {
     "data": {
      "text/html": [
       "<div>\n",
       "<style scoped>\n",
       "    .dataframe tbody tr th:only-of-type {\n",
       "        vertical-align: middle;\n",
       "    }\n",
       "\n",
       "    .dataframe tbody tr th {\n",
       "        vertical-align: top;\n",
       "    }\n",
       "\n",
       "    .dataframe thead th {\n",
       "        text-align: right;\n",
       "    }\n",
       "</style>\n",
       "<table border=\"1\" class=\"dataframe\">\n",
       "  <thead>\n",
       "    <tr style=\"text-align: right;\">\n",
       "      <th></th>\n",
       "      <th>Odometer</th>\n",
       "      <th>Number</th>\n",
       "      <th>Description</th>\n",
       "      <th>Depth</th>\n",
       "      <th>Ypin</th>\n",
       "    </tr>\n",
       "  </thead>\n",
       "  <tbody>\n",
       "    <tr>\n",
       "      <th>0</th>\n",
       "      <td>-11.12</td>\n",
       "      <td>1</td>\n",
       "      <td>Start Launcher</td>\n",
       "      <td>0.0</td>\n",
       "      <td>2</td>\n",
       "    </tr>\n",
       "    <tr>\n",
       "      <th>1</th>\n",
       "      <td>-7.70</td>\n",
       "      <td>3</td>\n",
       "      <td>Tap</td>\n",
       "      <td>0.0</td>\n",
       "      <td>2</td>\n",
       "    </tr>\n",
       "    <tr>\n",
       "      <th>2</th>\n",
       "      <td>-6.40</td>\n",
       "      <td>5</td>\n",
       "      <td>Tap</td>\n",
       "      <td>0.0</td>\n",
       "      <td>2</td>\n",
       "    </tr>\n",
       "    <tr>\n",
       "      <th>3</th>\n",
       "      <td>-3.30</td>\n",
       "      <td>7</td>\n",
       "      <td>Valve</td>\n",
       "      <td>0.0</td>\n",
       "      <td>2</td>\n",
       "    </tr>\n",
       "    <tr>\n",
       "      <th>4</th>\n",
       "      <td>-3.30</td>\n",
       "      <td>9</td>\n",
       "      <td>Tee</td>\n",
       "      <td>0.0</td>\n",
       "      <td>2</td>\n",
       "    </tr>\n",
       "    <tr>\n",
       "      <th>5</th>\n",
       "      <td>-3.00</td>\n",
       "      <td>11</td>\n",
       "      <td>Tap</td>\n",
       "      <td>0.0</td>\n",
       "      <td>2</td>\n",
       "    </tr>\n",
       "    <tr>\n",
       "      <th>6</th>\n",
       "      <td>-1.80</td>\n",
       "      <td>13</td>\n",
       "      <td>Flange</td>\n",
       "      <td>0.0</td>\n",
       "      <td>2</td>\n",
       "    </tr>\n",
       "  </tbody>\n",
       "</table>\n",
       "</div>"
      ],
      "text/plain": [
       "   Odometer  Number     Description  Depth  Ypin\n",
       "0    -11.12       1  Start Launcher    0.0     2\n",
       "1     -7.70       3             Tap    0.0     2\n",
       "2     -6.40       5             Tap    0.0     2\n",
       "3     -3.30       7           Valve    0.0     2\n",
       "4     -3.30       9             Tee    0.0     2\n",
       "5     -3.00      11             Tap    0.0     2\n",
       "6     -1.80      13          Flange    0.0     2"
      ]
     },
     "execution_count": 165,
     "metadata": {},
     "output_type": "execute_result"
    }
   ],
   "source": [
    "print(f\"There are {len(df.Odometer)} number of values in the Odometer column.\")\n",
    "print(f\"There are {len(df[df.Odometer < 0])} below zero in the Odometer column\")\n",
    "df[df.Odometer < 0]"
   ]
  },
  {
   "cell_type": "code",
   "execution_count": 166,
   "metadata": {},
   "outputs": [
    {
     "name": "stdout",
     "output_type": "stream",
     "text": [
      "There are 515 number of values in the Odometer column.\n"
     ]
    }
   ],
   "source": [
    "print(f\"There are {len(df.Odometer)} number of values in the Odometer column.\")"
   ]
  },
  {
   "cell_type": "code",
   "execution_count": 167,
   "metadata": {},
   "outputs": [
    {
     "data": {
      "image/png": "[encoded data removed]",
      "text/plain": [
       "<Figure size 720x360 with 2 Axes>"
      ]
     },
     "metadata": {},
     "output_type": "display_data"
    }
   ],
   "source": [
    "histogram_boxplot(df.Depth)"
   ]
  },
  {
   "cell_type": "markdown",
   "metadata": {},
   "source": [
    "### Explore the categorical variables"
   ]
  },
  {
   "cell_type": "code",
   "execution_count": 168,
   "metadata": {},
   "outputs": [],
   "source": [
    "# Function to create barplots that indicate percentage for each category.\n",
    "def bar_percentage(plot, feature):\n",
    "    '''\n",
    "    Barplot with percentage\n",
    "    plot: \n",
    "    feature: 1-d categorical feature array\n",
    "    '''\n",
    "    total = len(feature) # length of the column\n",
    "    for p in ax.patches:\n",
    "        perc = 100*(p.get_height() / total)\n",
    "        percentage_annotate = f\"{perc:.1f}%\"\n",
    "        x = p.get_x() + (p.get_width() / 2) - 0.275\n",
    "        y = p.get_y() + p.get_height()           \n",
    "        ax.annotate(percentage_annotate, (x, y), size=11) "
   ]
  },
  {
   "cell_type": "code",
   "execution_count": 169,
   "metadata": {},
   "outputs": [
    {
     "data": {
      "image/png": "[encoded data removed]",
      "text/plain": [
       "<Figure size 1080x360 with 1 Axes>"
      ]
     },
     "metadata": {},
     "output_type": "display_data"
    }
   ],
   "source": [
    "plt.figure(figsize=(15,5))\n",
    "ax = sns.countplot(df.Description);\n",
    "bar_percentage(ax, df.Description)\n",
    "plt.xticks(rotation=45, ha='right');"
   ]
  },
  {
   "cell_type": "markdown",
   "metadata": {},
   "source": [
    "## Lets try a more traditional approach using csv.reader"
   ]
  },
  {
   "cell_type": "code",
   "execution_count": 170,
   "metadata": {},
   "outputs": [],
   "source": [
    "with open(filename,'r') as csv_fh: \n",
    "    csv_reader = csv.reader(csv_fh)                               \n",
    "    arr_data = np.array([row for row in csv_reader])             # put each row from csv.reader into np.arra\n",
    "    labels = arr[0,:]                                            # Create dict using labels as column names.\n",
    "    data = {label: arr[1:, i] for i, label in enumerate(labels)} # sliced vertical to create homogenous structure   "
   ]
  },
  {
   "cell_type": "code",
   "execution_count": 171,
   "metadata": {},
   "outputs": [],
   "source": [
    "def check_dtype(data: Dict):\n",
    "    '''Print the values dtype of each key'''\n",
    "    for k, v in data.items():\n",
    "        print(k, v.dtype)"
   ]
  },
  {
   "cell_type": "code",
   "execution_count": 172,
   "metadata": {},
   "outputs": [],
   "source": [
    "# Lets change the dtype for the colomns\n",
    "data['Odometer (ft)'] = data['Odometer (ft)'].astype(float)\n",
    "data['Feature Number'] = data['Feature Number'].astype(int)\n",
    "data['Feature Description'] = data['Feature Description'].astype(str)\n",
    "data['Max Depth(%)'] = data['Max Depth(%)'].astype(float)\n",
    "data['YPin'] = data['YPin'].astype(int)"
   ]
  },
  {
   "cell_type": "code",
   "execution_count": 173,
   "metadata": {},
   "outputs": [
    {
     "name": "stdout",
     "output_type": "stream",
     "text": [
      "Odometer (ft) float64\n",
      "Feature Number int32\n",
      "Feature Description <U19\n",
      "Max Depth(%) float64\n",
      "YPin int32\n"
     ]
    }
   ],
   "source": [
    "check_dtype(data) # Lets check the dtype"
   ]
  },
  {
   "cell_type": "code",
   "execution_count": 215,
   "metadata": {},
   "outputs": [],
   "source": [
    "#create a list of feature descriptions to pass to function to print out count()\n",
    "def print_descriptions(data, features): # features is an ndarray\n",
    "    '''Prints the count of each feature in data.'''\n",
    "    for feature in features:\n",
    "        num = np.sum(data == feature)\n",
    "        print(f\"There are {num} {feature.upper()} in this section of the pipeline.\")"
   ]
  },
  {
   "cell_type": "code",
   "execution_count": 216,
   "metadata": {},
   "outputs": [],
   "source": [
    "features = np.unique(data['Feature Description'])"
   ]
  },
  {
   "cell_type": "code",
   "execution_count": 217,
   "metadata": {},
   "outputs": [
    {
     "name": "stdout",
     "output_type": "stream",
     "text": [
      "There are 3 AGM in this section of the pipeline.\n",
      "There are 1 AREA LAUNCHER in this section of the pipeline.\n",
      "There are 1 BEND DOWN in this section of the pipeline.\n",
      "There are 2 BEND LEFT in this section of the pipeline.\n",
      "There are 1 BEND RIGHT in this section of the pipeline.\n",
      "There are 1 CASING BEGIN in this section of the pipeline.\n",
      "There are 1 CASING END in this section of the pipeline.\n",
      "There are 2 DEFORMATION ANOMALY in this section of the pipeline.\n",
      "There are 3 FLANGE in this section of the pipeline.\n",
      "There are 460 GIRTH WELD in this section of the pipeline.\n",
      "There are 1 MAGNET in this section of the pipeline.\n",
      "There are 22 METAL LOSS ANOMALY in this section of the pipeline.\n",
      "There are 1 SLEEVE BEGIN in this section of the pipeline.\n",
      "There are 1 SLEEVE END in this section of the pipeline.\n",
      "There are 1 START LAUNCHER in this section of the pipeline.\n",
      "There are 6 TAP in this section of the pipeline.\n",
      "There are 4 TEE in this section of the pipeline.\n",
      "There are 4 VALVE in this section of the pipeline.\n"
     ]
    }
   ],
   "source": [
    "print_descriptions(data['Feature Description'], features)"
   ]
  },
  {
   "cell_type": "code",
   "execution_count": 218,
   "metadata": {},
   "outputs": [],
   "source": [
    "# create a list of list to zip with our labels (headers)\n",
    "# labels = [label0, label1, label2, .....]\n",
    "# values = [[value0], [value1], [value2], .....]\n",
    "#values = [odometers, numbers, descriptions, depths, ypins] # list were created \n",
    "#ili_dict = dict(zip(labels, values))\n",
    "#for k, v in ili_dict.items():\n",
    "#    print(k, \":\", v, end=\"\\n\")"
   ]
  },
  {
   "cell_type": "code",
   "execution_count": 219,
   "metadata": {},
   "outputs": [],
   "source": [
    "# Cool way to find unique values in set. A set has only unique values\n",
    "#features = list(set([value for value in ili_dict['Feature Description']])) \n",
    "#features"
   ]
  },
  {
   "cell_type": "code",
   "execution_count": 220,
   "metadata": {},
   "outputs": [
    {
     "ename": "TypeError",
     "evalue": "print_descriptions() missing 1 required positional argument: 'features'",
     "output_type": "error",
     "traceback": [
      "\u001b[1;31m---------------------------------------------------------------------------\u001b[0m",
      "\u001b[1;31mTypeError\u001b[0m                                 Traceback (most recent call last)",
      "\u001b[1;32m<ipython-input-220-2b76e0a3a909>\u001b[0m in \u001b[0;36m<module>\u001b[1;34m\u001b[0m\n\u001b[0;32m      1\u001b[0m \u001b[1;31m#pass the list just generated into the print_features function to printout the feature count.\u001b[0m\u001b[1;33m\u001b[0m\u001b[1;33m\u001b[0m\u001b[1;33m\u001b[0m\u001b[0m\n\u001b[1;32m----> 2\u001b[1;33m \u001b[0mprint_descriptions\u001b[0m\u001b[1;33m(\u001b[0m\u001b[0mfeatures\u001b[0m\u001b[1;33m)\u001b[0m\u001b[1;33m\u001b[0m\u001b[1;33m\u001b[0m\u001b[0m\n\u001b[0m",
      "\u001b[1;31mTypeError\u001b[0m: print_descriptions() missing 1 required positional argument: 'features'"
     ]
    }
   ],
   "source": [
    "#pass the list just generated into the print_features function to printout the feature count."
   ]
  },
  {
   "cell_type": "code",
   "execution_count": 214,
   "metadata": {},
   "outputs": [
    {
     "ename": "NameError",
     "evalue": "name 'weld' is not defined",
     "output_type": "error",
     "traceback": [
      "\u001b[1;31m---------------------------------------------------------------------------\u001b[0m",
      "\u001b[1;31mNameError\u001b[0m                                 Traceback (most recent call last)",
      "\u001b[1;32m<ipython-input-214-23cdc452b71c>\u001b[0m in \u001b[0;36m<module>\u001b[1;34m\u001b[0m\n\u001b[0;32m      1\u001b[0m \u001b[0mplt\u001b[0m\u001b[1;33m.\u001b[0m\u001b[0mfigure\u001b[0m\u001b[1;33m(\u001b[0m\u001b[0mdpi\u001b[0m\u001b[1;33m=\u001b[0m\u001b[1;36m128\u001b[0m\u001b[1;33m,\u001b[0m \u001b[0mfigsize\u001b[0m\u001b[1;33m=\u001b[0m\u001b[1;33m(\u001b[0m\u001b[1;36m15\u001b[0m\u001b[1;33m,\u001b[0m\u001b[1;36m5\u001b[0m\u001b[1;33m)\u001b[0m\u001b[1;33m)\u001b[0m\u001b[1;33m\u001b[0m\u001b[1;33m\u001b[0m\u001b[0m\n\u001b[1;32m----> 2\u001b[1;33m \u001b[0mplt\u001b[0m\u001b[1;33m.\u001b[0m\u001b[0mscatter\u001b[0m\u001b[1;33m(\u001b[0m\u001b[0mweld\u001b[0m\u001b[1;33m,\u001b[0m\u001b[0mweld_pipe\u001b[0m\u001b[1;33m,\u001b[0m\u001b[0ms\u001b[0m\u001b[1;33m=\u001b[0m\u001b[1;36m5000\u001b[0m\u001b[1;33m,\u001b[0m\u001b[0mcolor\u001b[0m\u001b[1;33m=\u001b[0m\u001b[1;34m'grey'\u001b[0m\u001b[1;33m,\u001b[0m\u001b[0mmarker\u001b[0m\u001b[1;33m=\u001b[0m\u001b[1;34m'|'\u001b[0m\u001b[1;33m)\u001b[0m\u001b[1;33m\u001b[0m\u001b[1;33m\u001b[0m\u001b[0m\n\u001b[0m\u001b[0;32m      3\u001b[0m \u001b[0mplt\u001b[0m\u001b[1;33m.\u001b[0m\u001b[0mscatter\u001b[0m\u001b[1;33m(\u001b[0m\u001b[0manomaly\u001b[0m\u001b[1;33m,\u001b[0m\u001b[0manomaly_data\u001b[0m\u001b[1;33m,\u001b[0m\u001b[0ms\u001b[0m\u001b[1;33m=\u001b[0m\u001b[1;36m45\u001b[0m\u001b[1;33m,\u001b[0m\u001b[0mcolor\u001b[0m\u001b[1;33m=\u001b[0m\u001b[1;34m'lightcoral'\u001b[0m\u001b[1;33m,\u001b[0m\u001b[0mmarker\u001b[0m\u001b[1;33m=\u001b[0m\u001b[1;34m'*'\u001b[0m\u001b[1;33m)\u001b[0m\u001b[1;33m\u001b[0m\u001b[1;33m\u001b[0m\u001b[0m\n\u001b[0;32m      4\u001b[0m \u001b[0mplt\u001b[0m\u001b[1;33m.\u001b[0m\u001b[0mscatter\u001b[0m\u001b[1;33m(\u001b[0m\u001b[0mtap\u001b[0m\u001b[1;33m,\u001b[0m\u001b[0mtap_pipe\u001b[0m\u001b[1;33m,\u001b[0m\u001b[0ms\u001b[0m\u001b[1;33m=\u001b[0m\u001b[1;36m100\u001b[0m\u001b[1;33m,\u001b[0m\u001b[0mcolor\u001b[0m\u001b[1;33m=\u001b[0m\u001b[1;34m'turquoise'\u001b[0m\u001b[1;33m,\u001b[0m\u001b[0mmarker\u001b[0m\u001b[1;33m=\u001b[0m\u001b[1;34m'o'\u001b[0m\u001b[1;33m)\u001b[0m\u001b[1;33m\u001b[0m\u001b[1;33m\u001b[0m\u001b[0m\n\u001b[0;32m      5\u001b[0m \u001b[0mplt\u001b[0m\u001b[1;33m.\u001b[0m\u001b[0mscatter\u001b[0m\u001b[1;33m(\u001b[0m\u001b[0mtap\u001b[0m\u001b[1;33m,\u001b[0m\u001b[0mtap_pipe\u001b[0m\u001b[1;33m,\u001b[0m\u001b[0ms\u001b[0m\u001b[1;33m=\u001b[0m\u001b[1;36m100\u001b[0m\u001b[1;33m,\u001b[0m\u001b[0mcolor\u001b[0m\u001b[1;33m=\u001b[0m\u001b[1;34m'darkblue'\u001b[0m\u001b[1;33m,\u001b[0m\u001b[0mmarker\u001b[0m\u001b[1;33m=\u001b[0m\u001b[1;34m'+'\u001b[0m\u001b[1;33m)\u001b[0m\u001b[1;33m\u001b[0m\u001b[1;33m\u001b[0m\u001b[0m\n",
      "\u001b[1;31mNameError\u001b[0m: name 'weld' is not defined"
     ]
    },
    {
     "data": {
      "text/plain": [
       "<Figure size 1920x640 with 0 Axes>"
      ]
     },
     "metadata": {},
     "output_type": "display_data"
    }
   ],
   "source": [
    "plt.figure(dpi=128, figsize=(15,5))\n",
    "plt.scatter(weld,weld_pipe,s=5000,color='grey',marker='|')\n",
    "plt.scatter(anomaly,anomaly_data,s=45,color='lightcoral',marker='*')\n",
    "plt.scatter(tap,tap_pipe,s=100,color='turquoise',marker='o')\n",
    "plt.scatter(tap,tap_pipe,s=100,color='darkblue',marker='+')\n",
    "plt.scatter(tee,tee_pipe,s=200,color='limegreen',marker='o')\n",
    "plt.scatter(tee,tee_pipe,s=200,color='darkblue',marker='+')\n",
    "plt.scatter(sleeve,sleeve_pipe,s=6000,color='red',marker='|')\n",
    "plt.scatter(sleeve,sleeve_pipe,s=3000,color='crimson',marker='|')\n",
    "plt.scatter(flange,flange_pipe,s=2200,color='gold',marker='|')\n",
    "plt.scatter(agm,agm_data,s=200,color='red',marker='o')\n",
    "plt.scatter(agm,agm_data,s=150,color='navy',marker='P')\n",
    "plt.scatter(agm,agm_data,s=100,color='w',marker='+')\n",
    "plt.scatter(casing,casing_pipe,s=9000,color='indigo',marker='|')\n",
    "plt.scatter(valve,valve_pipe,s=100,color='lightsteelblue',marker='X')\n",
    "plt.scatter(valve,valve_pipe,s=1000,color='blue',marker='x')\n",
    "plt.scatter(lbend,lbend_pipe,s=100,color='blue',marker='<')\n",
    "plt.scatter(rbend,rbend_pipe,s=100,color='blue',marker='>')\n",
    "plt.scatter(ubend,ubend_pipe,s=100,color='blue',marker='^')\n",
    "plt.scatter(dbend,dbend_pipe,s=100,color='blue',marker='v')\n",
    "plt.scatter(deform,deform_pipe,s=500,color='green',marker='*')\n",
    "\n",
    "#set chart title and label axes.\n",
    "plt.title(\"ILI Macro Visual\", fontsize=26)\n",
    "plt.xlabel(\"Odometer Readings (ft)\",fontsize=20)\n",
    "#plt.ylabel(\"Pipeline Depth of Cover\",fontsize=20)\n",
    "\n",
    "plt.tick_params(labelleft='off')\n",
    "plt.axis([-277,1000, -5,5])\n",
    "\n",
    "plt.show()"
   ]
  },
  {
   "cell_type": "markdown",
   "metadata": {},
   "source": [
    "output_file = 'conditions_r_met.csv'"
   ]
  },
  {
   "cell_type": "markdown",
   "metadata": {},
   "source": [
    "     with open(output_file,'w',newline='') as csv_out:\n",
    "\n",
    "    = csv.writer(csv_out)\n",
    "        labels = next(file_reader)\n",
    "        file_writer.writerow(labels)\n",
    "        print(\"Column Header Index:\")\n",
    "        \n",
    "        for i, label in enumerate(labels):\n",
    "            print(index, label)\n",
    "            \n",
    "        \n",
    "        for row in reader:\n",
    "            odometers = float(row[x])\n",
    "            feature_number = int(row[fn])\n",
    "            description = str(row[fd])\n",
    "            depth_percent = float(row[mdp])\n",
    "            y_axis = int(row[ya])\n",
    "            run_data = row[:]\n",
    "        \n",
    "            ili_data.append(run_data)\n",
    "            \n",
    "            #insert up index description in row[7]\n",
    "            descript_data.append(row)\n",
    "            descript.append(odometers)\n",
    "            descript_y.append(y_axis)\n",
    "            descript_descript.append(description)\n",
    "\n",
    "            def feature_setup(feature,feature_odo,feature_data,feature_pipe):\n",
    "                if description == feature:\n",
    "                    feature_odo.append(odometers)\n",
    "                    feature_pipe.append(y_axis)\n",
    "                    feature_data.append(row)\n",
    "                    writer.writerow(row)\n",
    "\n",
    "            feature_setup('Tap',tap,tap_data,tap_pipe)\n",
    "\n",
    "            feature_setup('Tee',tee,tee_data,tee_pipe)\n",
    "\n",
    "            feature_setup('Valve',valve,valve_data,valve_pipe)\n",
    "\n",
    "            feature_setup('Girth Weld',weld,weld_data,weld_pipe)\n",
    "\n",
    "            feature_setup('Sleeve Begin',sleeve,sleeve_data,sleeve_pipe)\n",
    "            feature_setup('Sleeve End ',sleeve,sleeve_data,sleeve_pipe)\n",
    "\n",
    "            feature_setup('Flange',flange,flange_data,flange_pipe)\n",
    "\n",
    "            feature_setup('Magnet',magnet,magnet_data,magnet_pipe)\n",
    "\n",
    "            feature_setup('Casing End',casing,casing_data,casing_pipe)\n",
    "            feature_setup('Casing Begin',casing,casing_data,casing_pipe)\n",
    "\n",
    "            feature_setup('Area Launcher',trap,trap_data,trap_pipe)\n",
    "            feature_setup('Start Launcher',trap,trap_data,trap_pipe)\n",
    "\n",
    "            feature_setup('Deformation Anomaly',deform,deform_data,deform_pipe)\n",
    "            \n",
    "            feature_setup('AGM',agm,agm_label,agm_data)\n",
    "            \n",
    "            feature_setup('Metal Loss Anomaly',anomaly,anomaly_pipe,anomaly_data)\n",
    "            \n",
    "            feature_setup('Bend Left',lbend,lbend_data,lbend_pipe)\n",
    "            feature_setup('Bend Right',rbend,rbend_data,rbend_pipe)\n",
    "            feature_setup('Bend up',ubend,ubend_data,ubend_pipe)\n",
    "            feature_setup('Bend down',dbend,dbend_data,dbend_pipe)\n",
    "            "
   ]
  }
 ],
 "metadata": {
  "kernelspec": {
   "display_name": "Python 3",
   "language": "python",
   "name": "python3"
  },
  "language_info": {
   "codemirror_mode": {
    "name": "ipython",
    "version": 3
   },
   "file_extension": ".py",
   "mimetype": "text/x-python",
   "name": "python",
   "nbconvert_exporter": "python",
   "pygments_lexer": "ipython3",
   "version": "3.8.5"
  }
 },
 "nbformat": 4,
 "nbformat_minor": 4
}
